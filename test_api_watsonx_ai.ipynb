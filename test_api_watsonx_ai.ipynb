{
 "cells": [
  {
   "cell_type": "markdown",
   "id": "2416abb7-bcb0-4e91-9f80-c00963aee974",
   "metadata": {},
   "source": [
    "### Importamos las librerias necesarias.\n",
    "1. dotenv es para leer tus archivos de configuración, aqui se puede poner tu api key y tu project id etc\n",
    "2. ibm_watson_machine_learning es la libreria de watsonx\n"
   ]
  },
  {
   "cell_type": "code",
   "execution_count": 1,
   "id": "ca963d18-b697-4a33-b5cf-8058eb0bbb04",
   "metadata": {},
   "outputs": [],
   "source": [
    "import os\n",
    "from dotenv import load_dotenv\n",
    "from ibm_watson_machine_learning.foundation_models import Model\n",
    "from ibm_watson_machine_learning.metanames import GenTextParamsMetaNames as GenParams"
   ]
  },
  {
   "cell_type": "markdown",
   "id": "6ffc885c-57a4-4270-a28b-b6604a9c4fee",
   "metadata": {},
   "source": [
    "### Configurar nuestro ambiente\n",
    "- Es necesario contar con tu api key y el project id que encontraras en la plataforma web de watsonX.ai\n",
    "- El Archvio debe configuracion debe llamarse .env y estar en la misma carpeta de tu script de python\n",
    "- Puedes Omitir estos pasos del archivo y simplemente copiar en codigo duro tus credenciales"
   ]
  },
  {
   "cell_type": "code",
   "execution_count": 5,
   "id": "0ecadc85-243f-439e-a75e-a26166b0589a",
   "metadata": {},
   "outputs": [],
   "source": [
    "load_dotenv()\n",
    "api_key = os.getenv(\"API_KEY\", None)\n",
    "ibm_cloud_url = os.getenv(\"IBM_CLOUD_URL\", None)\n",
    "project_id = os.getenv(\"PROJECT_ID\", None)\n",
    "if api_key is None or ibm_cloud_url is None or project_id is None:\n",
    "    raise Exception(\"Ensure you copied the .env file that you created earlier into the same directory as this notebook\")\n",
    "else:\n",
    "    creds = {\n",
    "        \"url\": ibm_cloud_url,\n",
    "        \"apikey\": api_key \n",
    "    }"
   ]
  },
  {
   "cell_type": "markdown",
   "id": "0d3a5137-451a-4425-8b9f-ec652ddbbc45",
   "metadata": {},
   "source": [
    "### Función de llamada a la api de watsonX.ai\n",
    "- Esta función permite la llamada  a la API de watsonX, recibe como aprametro tus prompts(s) y los hiperparametros del modelo.\n",
    "-  La respuesta es el texto generado por el modelo."
   ]
  },
  {
   "cell_type": "code",
   "execution_count": 13,
   "id": "256fdf14-1ba6-4fd2-95d9-b0add8774036",
   "metadata": {},
   "outputs": [],
   "source": [
    "def send_to_watsonxai(prompts,\n",
    "                    model_name=\"ibm/granite-13b-chat-v2\",\n",
    "                    decoding_method=\"greedy\",\n",
    "                    max_new_tokens=100,\n",
    "                    min_new_tokens=30,\n",
    "                    temperature=1.0,\n",
    "                    repetition_penalty=1.0\n",
    "                    ):\n",
    "\n",
    "\n",
    "    assert not any(map(lambda prompt: len(prompt) < 1, prompts)), \"make sure none of the prompts in the inputs prompts are empty\"\n",
    "\n",
    "    \n",
    "    model_params = {\n",
    "        GenParams.DECODING_METHOD: decoding_method,\n",
    "        GenParams.MIN_NEW_TOKENS: min_new_tokens,\n",
    "        GenParams.MAX_NEW_TOKENS: max_new_tokens,\n",
    "        GenParams.RANDOM_SEED: 42,\n",
    "        GenParams.TEMPERATURE: temperature,\n",
    "        GenParams.REPETITION_PENALTY: repetition_penalty,\n",
    "    }\n",
    "\n",
    "\n",
    "    \n",
    "    model = Model(\n",
    "        model_id=model_name,\n",
    "        params=model_params,\n",
    "        credentials=creds,\n",
    "        project_id=project_id)\n",
    "\n",
    "\n",
    "    for prompt in prompts:\n",
    "        print(model.generate_text(prompt))"
   ]
  }
 ],
 "metadata": {
  "kernelspec": {
   "display_name": "Python 3",
   "language": "python",
   "name": "python3"
  },
  "language_info": {
   "codemirror_mode": {
    "name": "ipython",
    "version": 3
   },
   "file_extension": ".py",
   "mimetype": "text/x-python",
   "name": "python",
   "nbconvert_exporter": "python",
   "pygments_lexer": "ipython3",
   "version": "3.12.3"
  }
 },
 "nbformat": 4,
 "nbformat_minor": 5
}
